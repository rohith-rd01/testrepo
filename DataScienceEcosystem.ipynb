{
 "cells": [
  {
   "cell_type": "markdown",
   "id": "ec57ee73-1f9b-44a7-8e14-fec3fb5b474b",
   "metadata": {},
   "source": [
    "# Data Science Tools and Ecosystem"
   ]
  },
  {
   "cell_type": "markdown",
   "id": "837c7bbf-8583-4915-a536-d18a489d416b",
   "metadata": {},
   "source": [
    "In this notebook, Data Science Tools and Ecosystem are summarized."
   ]
  },
  {
   "cell_type": "markdown",
   "id": "8137fb42-57f3-46ab-89dc-ca14251b4ed9",
   "metadata": {},
   "source": [
    "Some of the popular languages that Data Scientists use are:\n",
    "1. Python\n",
    "2. Julia\n",
    "3. RStudio\n",
    "4. Java"
   ]
  },
  {
   "cell_type": "markdown",
   "id": "daf6d0b7-dcac-43b7-a241-b3e4d9680567",
   "metadata": {},
   "source": [
    "Some of the commonly used libraries used by Data Scientists include:\n",
    "1. Pandas\n",
    "2. SciPy\n",
    "3. Matplotlib\n",
    "4. Numpy"
   ]
  },
  {
   "cell_type": "markdown",
   "id": "fa1c7c80-1c24-4377-af10-6392e8cb60f1",
   "metadata": {},
   "source": [
    "|   | Data Science Tools |\n",
    "|---|---|\n",
    "| 1. |TensorFlow.js|\n",
    "| 2. |ML Flow|\n",
    "| 3. |Hadoop|\n",
    "| 4. |Scrapy|\n"
   ]
  },
  {
   "cell_type": "markdown",
   "id": "15d2c7ca-6fbc-4354-b085-1732b0474372",
   "metadata": {},
   "source": [
    "### Below are a few examples of evaluating arithmetic expressions in Python."
   ]
  },
  {
   "cell_type": "code",
   "execution_count": 15,
   "id": "1ba452d7-a1c5-4742-ac26-652b043aa0ef",
   "metadata": {},
   "outputs": [
    {
     "data": {
      "text/plain": [
       "17"
      ]
     },
     "execution_count": 15,
     "metadata": {},
     "output_type": "execute_result"
    }
   ],
   "source": [
    "(3*4)+5"
   ]
  },
  {
   "cell_type": "code",
   "execution_count": 19,
   "id": "83822962-96f2-4080-9bc4-d9a85955a964",
   "metadata": {},
   "outputs": [
    {
     "name": "stdout",
     "output_type": "stream",
     "text": [
      "3.3333333333333335\n"
     ]
    }
   ],
   "source": [
    "# This will convert 200 minutes to hours by diving by 60\n",
    "minutes = 200\n",
    "hours = 200/60\n",
    "print(hours)"
   ]
  },
  {
   "cell_type": "markdown",
   "id": "b9497240-b5e6-48dc-b1fe-8367c61a7e3c",
   "metadata": {},
   "source": [
    "**Objectives**:\n",
    "1. Create a Jupyter Notebook\n",
    "2. Insert code and markdown cells\n",
    "3. Share your notebook through GitHub"
   ]
  },
  {
   "cell_type": "markdown",
   "id": "434d21e6-0df8-49eb-bdfb-08bd719746b5",
   "metadata": {},
   "source": [
    "## Author\n",
    "Rohith"
   ]
  },
  {
   "cell_type": "code",
   "execution_count": null,
   "id": "387f94e9-ce0a-4c32-b3f1-6acbb8031e65",
   "metadata": {},
   "outputs": [],
   "source": []
  }
 ],
 "metadata": {
  "kernelspec": {
   "display_name": "Python [conda env:base] *",
   "language": "python",
   "name": "conda-base-py"
  },
  "language_info": {
   "codemirror_mode": {
    "name": "ipython",
    "version": 3
   },
   "file_extension": ".py",
   "mimetype": "text/x-python",
   "name": "python",
   "nbconvert_exporter": "python",
   "pygments_lexer": "ipython3",
   "version": "3.12.7"
  }
 },
 "nbformat": 4,
 "nbformat_minor": 5
}
